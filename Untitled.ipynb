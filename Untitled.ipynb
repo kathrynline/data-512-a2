{
 "cells": [
  {
   "cell_type": "markdown",
   "id": "a8a11092",
   "metadata": {},
   "source": [
    "# Assignment 2: Bias in Data\n",
    "## Emily Linebarger"
   ]
  },
  {
   "cell_type": "markdown",
   "id": "d6f0f955",
   "metadata": {},
   "source": [
    "### 1. Data extraction"
   ]
  },
  {
   "cell_type": "markdown",
   "id": "1660bbda",
   "metadata": {},
   "source": [
    "The two datasets I'll be using for this analysis are the Politicians by Country dataset from FigShare (https://figshare.com/articles/dataset/Untitled_Item/5513449) and the World Population Data Sheet (https://docs.google.com/spreadsheets/d/1CFJO2zna2No5KqNm9rPK5PCACoXKzb-nycJFhV689Iw/edit#gid=283125346), from the Population Reference Bureau (https://www.prb.org/international/indicator/population/table/).\n",
    "\n",
    "All data was downloaded on October 9, 2021 and was placed in the \"raw\" folder without edits. "
   ]
  },
  {
   "cell_type": "markdown",
   "id": "6ebc8d6a",
   "metadata": {},
   "source": [
    "### 2. Data cleaning"
   ]
  },
  {
   "cell_type": "markdown",
   "id": "73dec6b1",
   "metadata": {},
   "source": [
    "### 3. Getting article quality predictions"
   ]
  }
 ],
 "metadata": {
  "kernelspec": {
   "display_name": "Python 3 (ipykernel)",
   "language": "python",
   "name": "python3"
  },
  "language_info": {
   "codemirror_mode": {
    "name": "ipython",
    "version": 3
   },
   "file_extension": ".py",
   "mimetype": "text/x-python",
   "name": "python",
   "nbconvert_exporter": "python",
   "pygments_lexer": "ipython3",
   "version": "3.9.7"
  }
 },
 "nbformat": 4,
 "nbformat_minor": 5
}
