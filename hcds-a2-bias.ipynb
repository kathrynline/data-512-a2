{
 "cells": [
  {
   "cell_type": "markdown",
   "id": "dd050676",
   "metadata": {},
   "source": [
    "# Assignment 2: Bias in Data\n",
    "## Emily Linebarger"
   ]
  },
  {
   "cell_type": "markdown",
   "id": "c9f0c3f3",
   "metadata": {},
   "source": [
    "### 1. Data extraction"
   ]
  },
  {
   "cell_type": "markdown",
   "id": "7d21682b",
   "metadata": {},
   "source": [
    "The two datasets I'll be using for this analysis are the Politicians by Country dataset from FigShare (https://figshare.com/articles/dataset/Untitled_Item/5513449) and the World Population Data Sheet (https://docs.google.com/spreadsheets/d/1CFJO2zna2No5KqNm9rPK5PCACoXKzb-nycJFhV689Iw/edit#gid=283125346), from the Population Reference Bureau (https://www.prb.org/international/indicator/population/table/).\n",
    "\n",
    "All data was downloaded on October 9, 2021 and was placed in the \"raw\" folder without edits. "
   ]
  },
  {
   "cell_type": "markdown",
   "id": "d8086304",
   "metadata": {},
   "source": [
    "### 2. Data cleaning"
   ]
  },
  {
   "cell_type": "code",
   "execution_count": 185,
   "id": "dd0d616b",
   "metadata": {},
   "outputs": [],
   "source": [
    "import pandas as pd\n",
    "import numpy as np\n",
    "\n",
    "# First, clean the data on politicians by country\n",
    "politicians = pd.read_csv(\"raw/country/data/page_data.csv\")"
   ]
  },
  {
   "cell_type": "code",
   "execution_count": 186,
   "id": "17ff7b05",
   "metadata": {},
   "outputs": [
    {
     "data": {
      "text/html": [
       "<div>\n",
       "<style scoped>\n",
       "    .dataframe tbody tr th:only-of-type {\n",
       "        vertical-align: middle;\n",
       "    }\n",
       "\n",
       "    .dataframe tbody tr th {\n",
       "        vertical-align: top;\n",
       "    }\n",
       "\n",
       "    .dataframe thead th {\n",
       "        text-align: right;\n",
       "    }\n",
       "</style>\n",
       "<table border=\"1\" class=\"dataframe\">\n",
       "  <thead>\n",
       "    <tr style=\"text-align: right;\">\n",
       "      <th></th>\n",
       "      <th>page</th>\n",
       "      <th>country</th>\n",
       "      <th>rev_id</th>\n",
       "    </tr>\n",
       "  </thead>\n",
       "  <tbody>\n",
       "    <tr>\n",
       "      <th>0</th>\n",
       "      <td>Template:ZambiaProvincialMinisters</td>\n",
       "      <td>Zambia</td>\n",
       "      <td>235107991</td>\n",
       "    </tr>\n",
       "    <tr>\n",
       "      <th>1</th>\n",
       "      <td>Bir I of Kanem</td>\n",
       "      <td>Chad</td>\n",
       "      <td>355319463</td>\n",
       "    </tr>\n",
       "    <tr>\n",
       "      <th>2</th>\n",
       "      <td>Template:Zimbabwe-politician-stub</td>\n",
       "      <td>Zimbabwe</td>\n",
       "      <td>391862046</td>\n",
       "    </tr>\n",
       "    <tr>\n",
       "      <th>3</th>\n",
       "      <td>Template:Uganda-politician-stub</td>\n",
       "      <td>Uganda</td>\n",
       "      <td>391862070</td>\n",
       "    </tr>\n",
       "    <tr>\n",
       "      <th>4</th>\n",
       "      <td>Template:Namibia-politician-stub</td>\n",
       "      <td>Namibia</td>\n",
       "      <td>391862409</td>\n",
       "    </tr>\n",
       "  </tbody>\n",
       "</table>\n",
       "</div>"
      ],
      "text/plain": [
       "                                 page   country     rev_id\n",
       "0  Template:ZambiaProvincialMinisters    Zambia  235107991\n",
       "1                      Bir I of Kanem      Chad  355319463\n",
       "2   Template:Zimbabwe-politician-stub  Zimbabwe  391862046\n",
       "3     Template:Uganda-politician-stub    Uganda  391862070\n",
       "4    Template:Namibia-politician-stub   Namibia  391862409"
      ]
     },
     "execution_count": 186,
     "metadata": {},
     "output_type": "execute_result"
    }
   ],
   "source": [
    "politicians.head()"
   ]
  },
  {
   "cell_type": "code",
   "execution_count": 187,
   "id": "dbd611a6",
   "metadata": {},
   "outputs": [
    {
     "data": {
      "text/plain": [
       "(47197, 3)"
      ]
     },
     "execution_count": 187,
     "metadata": {},
     "output_type": "execute_result"
    }
   ],
   "source": [
    "politicians.shape"
   ]
  },
  {
   "cell_type": "code",
   "execution_count": 188,
   "id": "189987b0",
   "metadata": {},
   "outputs": [
    {
     "data": {
      "text/html": [
       "<div>\n",
       "<style scoped>\n",
       "    .dataframe tbody tr th:only-of-type {\n",
       "        vertical-align: middle;\n",
       "    }\n",
       "\n",
       "    .dataframe tbody tr th {\n",
       "        vertical-align: top;\n",
       "    }\n",
       "\n",
       "    .dataframe thead th {\n",
       "        text-align: right;\n",
       "    }\n",
       "</style>\n",
       "<table border=\"1\" class=\"dataframe\">\n",
       "  <thead>\n",
       "    <tr style=\"text-align: right;\">\n",
       "      <th></th>\n",
       "      <th>page</th>\n",
       "      <th>country</th>\n",
       "      <th>rev_id</th>\n",
       "    </tr>\n",
       "  </thead>\n",
       "  <tbody>\n",
       "    <tr>\n",
       "      <th>0</th>\n",
       "      <td>Template:ZambiaProvincialMinisters</td>\n",
       "      <td>Zambia</td>\n",
       "      <td>235107991</td>\n",
       "    </tr>\n",
       "    <tr>\n",
       "      <th>2</th>\n",
       "      <td>Template:Zimbabwe-politician-stub</td>\n",
       "      <td>Zimbabwe</td>\n",
       "      <td>391862046</td>\n",
       "    </tr>\n",
       "    <tr>\n",
       "      <th>3</th>\n",
       "      <td>Template:Uganda-politician-stub</td>\n",
       "      <td>Uganda</td>\n",
       "      <td>391862070</td>\n",
       "    </tr>\n",
       "    <tr>\n",
       "      <th>4</th>\n",
       "      <td>Template:Namibia-politician-stub</td>\n",
       "      <td>Namibia</td>\n",
       "      <td>391862409</td>\n",
       "    </tr>\n",
       "    <tr>\n",
       "      <th>5</th>\n",
       "      <td>Template:Nigeria-politician-stub</td>\n",
       "      <td>Nigeria</td>\n",
       "      <td>391862819</td>\n",
       "    </tr>\n",
       "    <tr>\n",
       "      <th>...</th>\n",
       "      <td>...</td>\n",
       "      <td>...</td>\n",
       "      <td>...</td>\n",
       "    </tr>\n",
       "    <tr>\n",
       "      <th>44916</th>\n",
       "      <td>Template:New Zealand prime minister electoral ...</td>\n",
       "      <td>New Zealand</td>\n",
       "      <td>806286945</td>\n",
       "    </tr>\n",
       "    <tr>\n",
       "      <th>44966</th>\n",
       "      <td>Template:Current New Zealand political party l...</td>\n",
       "      <td>New Zealand</td>\n",
       "      <td>806301302</td>\n",
       "    </tr>\n",
       "    <tr>\n",
       "      <th>45587</th>\n",
       "      <td>Template:Lists of US Presidents and Vice Presi...</td>\n",
       "      <td>United States</td>\n",
       "      <td>806668141</td>\n",
       "    </tr>\n",
       "    <tr>\n",
       "      <th>45823</th>\n",
       "      <td>Template:Prime Ministers of Australia</td>\n",
       "      <td>Australia</td>\n",
       "      <td>806799996</td>\n",
       "    </tr>\n",
       "    <tr>\n",
       "      <th>46907</th>\n",
       "      <td>Template:Leaders of South Korean political par...</td>\n",
       "      <td>South Korean</td>\n",
       "      <td>807389258</td>\n",
       "    </tr>\n",
       "  </tbody>\n",
       "</table>\n",
       "<p>496 rows × 3 columns</p>\n",
       "</div>"
      ],
      "text/plain": [
       "                                                    page        country  \\\n",
       "0                     Template:ZambiaProvincialMinisters         Zambia   \n",
       "2                      Template:Zimbabwe-politician-stub       Zimbabwe   \n",
       "3                        Template:Uganda-politician-stub         Uganda   \n",
       "4                       Template:Namibia-politician-stub        Namibia   \n",
       "5                       Template:Nigeria-politician-stub        Nigeria   \n",
       "...                                                  ...            ...   \n",
       "44916  Template:New Zealand prime minister electoral ...    New Zealand   \n",
       "44966  Template:Current New Zealand political party l...    New Zealand   \n",
       "45587  Template:Lists of US Presidents and Vice Presi...  United States   \n",
       "45823              Template:Prime Ministers of Australia      Australia   \n",
       "46907  Template:Leaders of South Korean political par...   South Korean   \n",
       "\n",
       "          rev_id  \n",
       "0      235107991  \n",
       "2      391862046  \n",
       "3      391862070  \n",
       "4      391862409  \n",
       "5      391862819  \n",
       "...          ...  \n",
       "44916  806286945  \n",
       "44966  806301302  \n",
       "45587  806668141  \n",
       "45823  806799996  \n",
       "46907  807389258  \n",
       "\n",
       "[496 rows x 3 columns]"
      ]
     },
     "execution_count": 188,
     "metadata": {},
     "output_type": "execute_result"
    }
   ],
   "source": [
    "# All of the 'page' rows that start with \"Template\" are not Wikipedia articles, and should be dropped. \n",
    "mask = politicians.page.str.contains(\"^Template\")\n",
    "politicians[mask]"
   ]
  },
  {
   "cell_type": "code",
   "execution_count": 189,
   "id": "4579a85c",
   "metadata": {},
   "outputs": [],
   "source": [
    "politicians = politicians[~mask]\n",
    "politicians.shape # This drops 496 rows. \n",
    "politicians.to_csv('clean/politicians.csv')"
   ]
  },
  {
   "cell_type": "code",
   "execution_count": 190,
   "id": "a49275af",
   "metadata": {},
   "outputs": [
    {
     "data": {
      "text/html": [
       "<div>\n",
       "<style scoped>\n",
       "    .dataframe tbody tr th:only-of-type {\n",
       "        vertical-align: middle;\n",
       "    }\n",
       "\n",
       "    .dataframe tbody tr th {\n",
       "        vertical-align: top;\n",
       "    }\n",
       "\n",
       "    .dataframe thead th {\n",
       "        text-align: right;\n",
       "    }\n",
       "</style>\n",
       "<table border=\"1\" class=\"dataframe\">\n",
       "  <thead>\n",
       "    <tr style=\"text-align: right;\">\n",
       "      <th></th>\n",
       "      <th>FIPS</th>\n",
       "      <th>country</th>\n",
       "      <th>Type</th>\n",
       "      <th>TimeFrame</th>\n",
       "      <th>Data (M)</th>\n",
       "      <th>Population</th>\n",
       "    </tr>\n",
       "  </thead>\n",
       "  <tbody>\n",
       "    <tr>\n",
       "      <th>0</th>\n",
       "      <td>WORLD</td>\n",
       "      <td>WORLD</td>\n",
       "      <td>World</td>\n",
       "      <td>2019</td>\n",
       "      <td>7772.850</td>\n",
       "      <td>7772850000</td>\n",
       "    </tr>\n",
       "    <tr>\n",
       "      <th>1</th>\n",
       "      <td>AFRICA</td>\n",
       "      <td>AFRICA</td>\n",
       "      <td>Sub-Region</td>\n",
       "      <td>2019</td>\n",
       "      <td>1337.918</td>\n",
       "      <td>1337918000</td>\n",
       "    </tr>\n",
       "    <tr>\n",
       "      <th>2</th>\n",
       "      <td>NORTHERN AFRICA</td>\n",
       "      <td>NORTHERN AFRICA</td>\n",
       "      <td>Sub-Region</td>\n",
       "      <td>2019</td>\n",
       "      <td>244.344</td>\n",
       "      <td>244344000</td>\n",
       "    </tr>\n",
       "    <tr>\n",
       "      <th>3</th>\n",
       "      <td>DZ</td>\n",
       "      <td>Algeria</td>\n",
       "      <td>Country</td>\n",
       "      <td>2019</td>\n",
       "      <td>44.357</td>\n",
       "      <td>44357000</td>\n",
       "    </tr>\n",
       "    <tr>\n",
       "      <th>4</th>\n",
       "      <td>EG</td>\n",
       "      <td>Egypt</td>\n",
       "      <td>Country</td>\n",
       "      <td>2019</td>\n",
       "      <td>100.803</td>\n",
       "      <td>100803000</td>\n",
       "    </tr>\n",
       "  </tbody>\n",
       "</table>\n",
       "</div>"
      ],
      "text/plain": [
       "              FIPS          country        Type  TimeFrame  Data (M)  \\\n",
       "0            WORLD            WORLD       World       2019  7772.850   \n",
       "1           AFRICA           AFRICA  Sub-Region       2019  1337.918   \n",
       "2  NORTHERN AFRICA  NORTHERN AFRICA  Sub-Region       2019   244.344   \n",
       "3               DZ          Algeria     Country       2019    44.357   \n",
       "4               EG            Egypt     Country       2019   100.803   \n",
       "\n",
       "   Population  \n",
       "0  7772850000  \n",
       "1  1337918000  \n",
       "2   244344000  \n",
       "3    44357000  \n",
       "4   100803000  "
      ]
     },
     "execution_count": 190,
     "metadata": {},
     "output_type": "execute_result"
    }
   ],
   "source": [
    "# Next, clean the population data. \n",
    "# There are some regional aggregates, which are distinguished by all-caps in the 'geography' field.\n",
    "# These won't match the country strings in the politicians dataset, but they're important to keep around \n",
    "# to get regional aggregates. \n",
    "population = pd.read_csv('raw/WPDS_2020_data - WPDS_2020_data.csv.csv')\n",
    "population = population.rename(columns={'Name':'country'}) # Rename to match politicians schema\n",
    "population.head()"
   ]
  },
  {
   "cell_type": "code",
   "execution_count": 191,
   "id": "3a3c3f2e",
   "metadata": {},
   "outputs": [],
   "source": [
    "population.to_csv('clean/population.csv')"
   ]
  },
  {
   "cell_type": "markdown",
   "id": "fb8445da",
   "metadata": {},
   "source": [
    "### 3. Getting article quality predictions"
   ]
  },
  {
   "cell_type": "markdown",
   "id": "2d159f1a",
   "metadata": {},
   "source": [
    "To get article quality scores, I will use the ORES API, which uses a machine-learning model to attach a quality score to a given revision ID. \n",
    "Documentation is here: https://ores.wikimedia.org/v3/#!/scoring/get_v3_scores_context_revid_model\n",
    "\n",
    "For each group of revision IDs, I'll need to build up a URL string of the format: \n",
    "https://ores.wikimedia.org/v3/scores/enwiki?models=articlequality&revids=355319463%7C498683267\n",
    "This queries the \"enwiki\" database (the content parameter), with the \"articlequality\" model (model parameter). \n",
    "From the API documentation, the database errors when more than 200 revision IDs are queried, so I'll query them in batches and write out temporary files. "
   ]
  },
  {
   "cell_type": "code",
   "execution_count": 192,
   "id": "40d6c47a",
   "metadata": {},
   "outputs": [],
   "source": [
    "import requests\n",
    "import json\n",
    "from datetime import datetime\n",
    "import os\n",
    "\n",
    "def query_api_batch(start_idx, end_idx, data, date):\n",
    "    # Get the revision IDs from the start to the end index\n",
    "    rev_ids = data.rev_id[start_idx:end_idx].astype('int')\n",
    "    rev_ids = rev_ids.astype('str')\n",
    "    rev_ids = '|'.join(rev_ids.to_list())\n",
    "    \n",
    "    # Create a datetime string for data saving\n",
    "    date = datetime.today().strftime(\"%Y_%m_%d_%H_%M_%S\")\n",
    "    os.makedirs(f\"api_queries_raw/{date}\", exist_ok = True)\n",
    "    os.makedirs(f\"cleaned_queries/{date}\", exist_ok = True)\n",
    "    \n",
    "    # Query the API\n",
    "    r = requests.get(f\"https://ores.wikimedia.org/v3/scores/enwiki?models=articlequality&revids={rev_ids}\")\n",
    "    \n",
    "    # Manipulate the data to get the 'prediction' column for each ID\n",
    "    data = json.loads(r.text)\n",
    "    # Save this query output\n",
    "    with open(f'api_queries_raw/{date}/{start_idx}_{end_idx}.txt', 'w') as outfile:\n",
    "        json.dump(data, outfile)\n",
    "        \n",
    "    # Extract just the columns you need from the queries - prediction and revision ID\n",
    "    cleaned_data = dict()\n",
    "    for rev_id in data['enwiki']['scores'].keys():\n",
    "        if 'error' in data['enwiki']['scores'][rev_id]['articlequality'].keys():\n",
    "            score = np.nan\n",
    "        else:\n",
    "            score = data['enwiki']['scores'][rev_id]['articlequality']['score']['prediction']\n",
    "        cleaned_data[rev_id] = score\n",
    "    cleaned_data = pd.DataFrame({'rev_id': cleaned_data.keys(), 'score': cleaned_data.values()})\n",
    "    cleaned_data.to_csv(f'cleaned_queries/{date}/{start_idx}_{end_idx}.csv')"
   ]
  },
  {
   "cell_type": "code",
   "execution_count": 193,
   "id": "4463887a",
   "metadata": {},
   "outputs": [
    {
     "name": "stdout",
     "output_type": "stream",
     "text": [
      "Previous results found: 1007\n"
     ]
    }
   ],
   "source": [
    "# First, read in past results. The API starts to reject requests after a certain number of queries, so I had\n",
    "# to query in batches and save results to disk. \n",
    "# ** Note - for the first two runs on 10/9/2021 and 10/11/2021, I did not save the time. So I've given these \n",
    "# folders a time of midnight (00_00_00).\n",
    "from pathlib import Path\n",
    "all_dates = [x for x in Path('cleaned_queries').iterdir()]\n",
    "previous_results = list()\n",
    "for date in all_dates:\n",
    "    previous_results.extend([x for x in date.iterdir() if x.is_file()])\n",
    "print(f\"Previous results found: {len(previous_results)}\")"
   ]
  },
  {
   "cell_type": "code",
   "execution_count": 194,
   "id": "0362f4fb",
   "metadata": {},
   "outputs": [],
   "source": [
    "# Glob all of these results together \n",
    "wiki_codes = []\n",
    "\n",
    "for filename in previous_results:\n",
    "    df = pd.read_csv(filename)\n",
    "    wiki_codes.append(df)\n",
    "\n",
    "wiki_codes = pd.concat(wiki_codes, axis=0, ignore_index=True)"
   ]
  },
  {
   "cell_type": "code",
   "execution_count": 195,
   "id": "06adfc1a",
   "metadata": {},
   "outputs": [
    {
     "data": {
      "text/html": [
       "<div>\n",
       "<style scoped>\n",
       "    .dataframe tbody tr th:only-of-type {\n",
       "        vertical-align: middle;\n",
       "    }\n",
       "\n",
       "    .dataframe tbody tr th {\n",
       "        vertical-align: top;\n",
       "    }\n",
       "\n",
       "    .dataframe thead th {\n",
       "        text-align: right;\n",
       "    }\n",
       "</style>\n",
       "<table border=\"1\" class=\"dataframe\">\n",
       "  <thead>\n",
       "    <tr style=\"text-align: right;\">\n",
       "      <th></th>\n",
       "      <th>Unnamed: 0</th>\n",
       "      <th>rev_id</th>\n",
       "      <th>score</th>\n",
       "    </tr>\n",
       "  </thead>\n",
       "  <tbody>\n",
       "    <tr>\n",
       "      <th>0</th>\n",
       "      <td>0</td>\n",
       "      <td>699260156</td>\n",
       "      <td>NaN</td>\n",
       "    </tr>\n",
       "    <tr>\n",
       "      <th>1</th>\n",
       "      <td>1</td>\n",
       "      <td>708813010</td>\n",
       "      <td>NaN</td>\n",
       "    </tr>\n",
       "    <tr>\n",
       "      <th>2</th>\n",
       "      <td>2</td>\n",
       "      <td>715457941</td>\n",
       "      <td>NaN</td>\n",
       "    </tr>\n",
       "    <tr>\n",
       "      <th>3</th>\n",
       "      <td>3</td>\n",
       "      <td>717369009</td>\n",
       "      <td>Stub</td>\n",
       "    </tr>\n",
       "    <tr>\n",
       "      <th>4</th>\n",
       "      <td>4</td>\n",
       "      <td>717927381</td>\n",
       "      <td>NaN</td>\n",
       "    </tr>\n",
       "  </tbody>\n",
       "</table>\n",
       "</div>"
      ],
      "text/plain": [
       "   Unnamed: 0     rev_id score\n",
       "0           0  699260156   NaN\n",
       "1           1  708813010   NaN\n",
       "2           2  715457941   NaN\n",
       "3           3  717369009  Stub\n",
       "4           4  717927381   NaN"
      ]
     },
     "execution_count": 195,
     "metadata": {},
     "output_type": "execute_result"
    }
   ],
   "source": [
    "wiki_codes.head()"
   ]
  },
  {
   "cell_type": "code",
   "execution_count": 196,
   "id": "fcd5f829",
   "metadata": {},
   "outputs": [
    {
     "data": {
      "text/plain": [
       "(47783, 3)"
      ]
     },
     "execution_count": 196,
     "metadata": {},
     "output_type": "execute_result"
    }
   ],
   "source": [
    "wiki_codes.shape"
   ]
  },
  {
   "cell_type": "code",
   "execution_count": 197,
   "id": "3e2ef385",
   "metadata": {},
   "outputs": [
    {
     "data": {
      "text/html": [
       "<div>\n",
       "<style scoped>\n",
       "    .dataframe tbody tr th:only-of-type {\n",
       "        vertical-align: middle;\n",
       "    }\n",
       "\n",
       "    .dataframe tbody tr th {\n",
       "        vertical-align: top;\n",
       "    }\n",
       "\n",
       "    .dataframe thead th {\n",
       "        text-align: right;\n",
       "    }\n",
       "</style>\n",
       "<table border=\"1\" class=\"dataframe\">\n",
       "  <thead>\n",
       "    <tr style=\"text-align: right;\">\n",
       "      <th></th>\n",
       "      <th>Unnamed: 0</th>\n",
       "      <th>page</th>\n",
       "      <th>country</th>\n",
       "      <th>rev_id</th>\n",
       "    </tr>\n",
       "  </thead>\n",
       "  <tbody>\n",
       "    <tr>\n",
       "      <th>0</th>\n",
       "      <td>1</td>\n",
       "      <td>Bir I of Kanem</td>\n",
       "      <td>Chad</td>\n",
       "      <td>355319463</td>\n",
       "    </tr>\n",
       "    <tr>\n",
       "      <th>1</th>\n",
       "      <td>10</td>\n",
       "      <td>Information Minister of the Palestinian Nation...</td>\n",
       "      <td>Palestinian Territory</td>\n",
       "      <td>393276188</td>\n",
       "    </tr>\n",
       "    <tr>\n",
       "      <th>2</th>\n",
       "      <td>12</td>\n",
       "      <td>Yos Por</td>\n",
       "      <td>Cambodia</td>\n",
       "      <td>393822005</td>\n",
       "    </tr>\n",
       "    <tr>\n",
       "      <th>3</th>\n",
       "      <td>23</td>\n",
       "      <td>Julius Gregr</td>\n",
       "      <td>Czech Republic</td>\n",
       "      <td>395521877</td>\n",
       "    </tr>\n",
       "    <tr>\n",
       "      <th>4</th>\n",
       "      <td>24</td>\n",
       "      <td>Edvard Gregr</td>\n",
       "      <td>Czech Republic</td>\n",
       "      <td>395526568</td>\n",
       "    </tr>\n",
       "  </tbody>\n",
       "</table>\n",
       "</div>"
      ],
      "text/plain": [
       "   Unnamed: 0                                               page  \\\n",
       "0           1                                     Bir I of Kanem   \n",
       "1          10  Information Minister of the Palestinian Nation...   \n",
       "2          12                                            Yos Por   \n",
       "3          23                                       Julius Gregr   \n",
       "4          24                                       Edvard Gregr   \n",
       "\n",
       "                 country     rev_id  \n",
       "0                   Chad  355319463  \n",
       "1  Palestinian Territory  393276188  \n",
       "2               Cambodia  393822005  \n",
       "3         Czech Republic  395521877  \n",
       "4         Czech Republic  395526568  "
      ]
     },
     "execution_count": 197,
     "metadata": {},
     "output_type": "execute_result"
    }
   ],
   "source": [
    "# Merge these results onto data, so you only query lines that are missing \n",
    "data = pd.read_csv('clean/politicians.csv')\n",
    "data['rev_id'] = np.round(data['rev_id'])\n",
    "data.head()"
   ]
  },
  {
   "cell_type": "code",
   "execution_count": 198,
   "id": "dbc8b2b2",
   "metadata": {},
   "outputs": [
    {
     "data": {
      "text/html": [
       "<div>\n",
       "<style scoped>\n",
       "    .dataframe tbody tr th:only-of-type {\n",
       "        vertical-align: middle;\n",
       "    }\n",
       "\n",
       "    .dataframe tbody tr th {\n",
       "        vertical-align: top;\n",
       "    }\n",
       "\n",
       "    .dataframe thead th {\n",
       "        text-align: right;\n",
       "    }\n",
       "</style>\n",
       "<table border=\"1\" class=\"dataframe\">\n",
       "  <thead>\n",
       "    <tr style=\"text-align: right;\">\n",
       "      <th></th>\n",
       "      <th>Unnamed: 0</th>\n",
       "      <th>page</th>\n",
       "      <th>country</th>\n",
       "      <th>rev_id</th>\n",
       "      <th>score</th>\n",
       "    </tr>\n",
       "  </thead>\n",
       "  <tbody>\n",
       "    <tr>\n",
       "      <th>0</th>\n",
       "      <td>1</td>\n",
       "      <td>Bir I of Kanem</td>\n",
       "      <td>Chad</td>\n",
       "      <td>355319463</td>\n",
       "      <td>Stub</td>\n",
       "    </tr>\n",
       "    <tr>\n",
       "      <th>1</th>\n",
       "      <td>10</td>\n",
       "      <td>Information Minister of the Palestinian Nation...</td>\n",
       "      <td>Palestinian Territory</td>\n",
       "      <td>393276188</td>\n",
       "      <td>Stub</td>\n",
       "    </tr>\n",
       "    <tr>\n",
       "      <th>2</th>\n",
       "      <td>12</td>\n",
       "      <td>Yos Por</td>\n",
       "      <td>Cambodia</td>\n",
       "      <td>393822005</td>\n",
       "      <td>Stub</td>\n",
       "    </tr>\n",
       "    <tr>\n",
       "      <th>3</th>\n",
       "      <td>23</td>\n",
       "      <td>Julius Gregr</td>\n",
       "      <td>Czech Republic</td>\n",
       "      <td>395521877</td>\n",
       "      <td>Stub</td>\n",
       "    </tr>\n",
       "    <tr>\n",
       "      <th>4</th>\n",
       "      <td>24</td>\n",
       "      <td>Edvard Gregr</td>\n",
       "      <td>Czech Republic</td>\n",
       "      <td>395526568</td>\n",
       "      <td>Stub</td>\n",
       "    </tr>\n",
       "  </tbody>\n",
       "</table>\n",
       "</div>"
      ],
      "text/plain": [
       "   Unnamed: 0                                               page  \\\n",
       "0           1                                     Bir I of Kanem   \n",
       "1          10  Information Minister of the Palestinian Nation...   \n",
       "2          12                                            Yos Por   \n",
       "3          23                                       Julius Gregr   \n",
       "4          24                                       Edvard Gregr   \n",
       "\n",
       "                 country     rev_id score  \n",
       "0                   Chad  355319463  Stub  \n",
       "1  Palestinian Territory  393276188  Stub  \n",
       "2               Cambodia  393822005  Stub  \n",
       "3         Czech Republic  395521877  Stub  \n",
       "4         Czech Republic  395526568  Stub  "
      ]
     },
     "execution_count": 198,
     "metadata": {},
     "output_type": "execute_result"
    }
   ],
   "source": [
    "wiki_codes = wiki_codes[['rev_id', 'score']]\n",
    "scored_data = data.merge(wiki_codes, on = 'rev_id', how = 'outer')\n",
    "scored_data.head()"
   ]
  },
  {
   "cell_type": "code",
   "execution_count": 199,
   "id": "19d75d1a",
   "metadata": {},
   "outputs": [],
   "source": [
    "# Save this data out\n",
    "has_scores = scored_data.loc[~scored_data.score.isnull()]\n",
    "has_scores.to_csv('clean/pages_with_scores.csv')"
   ]
  },
  {
   "cell_type": "code",
   "execution_count": 200,
   "id": "5ca5bbdf",
   "metadata": {},
   "outputs": [
    {
     "data": {
      "text/html": [
       "<div>\n",
       "<style scoped>\n",
       "    .dataframe tbody tr th:only-of-type {\n",
       "        vertical-align: middle;\n",
       "    }\n",
       "\n",
       "    .dataframe tbody tr th {\n",
       "        vertical-align: top;\n",
       "    }\n",
       "\n",
       "    .dataframe thead th {\n",
       "        text-align: right;\n",
       "    }\n",
       "</style>\n",
       "<table border=\"1\" class=\"dataframe\">\n",
       "  <thead>\n",
       "    <tr style=\"text-align: right;\">\n",
       "      <th></th>\n",
       "      <th>Unnamed: 0</th>\n",
       "      <th>page</th>\n",
       "      <th>country</th>\n",
       "      <th>rev_id</th>\n",
       "      <th>score</th>\n",
       "    </tr>\n",
       "  </thead>\n",
       "  <tbody>\n",
       "    <tr>\n",
       "      <th>14</th>\n",
       "      <td>126</td>\n",
       "      <td>List of politicians in Poland</td>\n",
       "      <td>Poland</td>\n",
       "      <td>516633096</td>\n",
       "      <td>NaN</td>\n",
       "    </tr>\n",
       "    <tr>\n",
       "      <th>25</th>\n",
       "      <td>222</td>\n",
       "      <td>Tingtingru</td>\n",
       "      <td>Vanuatu</td>\n",
       "      <td>550682925</td>\n",
       "      <td>NaN</td>\n",
       "    </tr>\n",
       "    <tr>\n",
       "      <th>59</th>\n",
       "      <td>330</td>\n",
       "      <td>Daud Arsala</td>\n",
       "      <td>Afghanistan</td>\n",
       "      <td>627547024</td>\n",
       "      <td>NaN</td>\n",
       "    </tr>\n",
       "    <tr>\n",
       "      <th>87</th>\n",
       "      <td>359</td>\n",
       "      <td>Book:Two Political Biographies</td>\n",
       "      <td>India</td>\n",
       "      <td>636911471</td>\n",
       "      <td>NaN</td>\n",
       "    </tr>\n",
       "    <tr>\n",
       "      <th>196</th>\n",
       "      <td>514</td>\n",
       "      <td>Dilaver Bey</td>\n",
       "      <td>Turkey</td>\n",
       "      <td>669987106</td>\n",
       "      <td>NaN</td>\n",
       "    </tr>\n",
       "  </tbody>\n",
       "</table>\n",
       "</div>"
      ],
      "text/plain": [
       "     Unnamed: 0                            page      country     rev_id score\n",
       "14          126   List of politicians in Poland       Poland  516633096   NaN\n",
       "25          222                      Tingtingru      Vanuatu  550682925   NaN\n",
       "59          330                     Daud Arsala  Afghanistan  627547024   NaN\n",
       "87          359  Book:Two Political Biographies        India  636911471   NaN\n",
       "196         514                     Dilaver Bey       Turkey  669987106   NaN"
      ]
     },
     "execution_count": 200,
     "metadata": {},
     "output_type": "execute_result"
    }
   ],
   "source": [
    "# Pull out the missing lines, and query the database for their scores. \n",
    "missing_scores = scored_data.loc[scored_data.score.isnull()]\n",
    "missing_scores = missing_scores.drop_duplicates()\n",
    "missing_scores.head()"
   ]
  },
  {
   "cell_type": "code",
   "execution_count": 201,
   "id": "54799077",
   "metadata": {},
   "outputs": [
    {
     "data": {
      "text/plain": [
       "(277, 5)"
      ]
     },
     "execution_count": 201,
     "metadata": {},
     "output_type": "execute_result"
    }
   ],
   "source": [
    "missing_scores.shape"
   ]
  },
  {
   "cell_type": "code",
   "execution_count": 202,
   "id": "8f9698e0",
   "metadata": {},
   "outputs": [],
   "source": [
    "# Save the results you were unable to score to disk\n",
    "missing_scores.to_csv('clean/unable_to_score_pages.csv')"
   ]
  },
  {
   "cell_type": "code",
   "execution_count": 203,
   "id": "3e3105f2",
   "metadata": {},
   "outputs": [
    {
     "name": "stdout",
     "output_type": "stream",
     "text": [
      "All pages have been scored!\n"
     ]
    }
   ],
   "source": [
    "# Iterate through the entire dataset, and save all query results\n",
    "# There are 277 pages that couldn't be scored. Iterate through this loop again in you find more than this. \n",
    "if missing_scores.shape[0] > 277:\n",
    "    # Create a datetime string for data saving\n",
    "    date = datetime.today().strftime(\"%Y_%m_%d_%H_%M_%S\")\n",
    "    os.makedirs(f\"api_queries_raw/{date}\", exist_ok = True)\n",
    "    os.makedirs(f\"cleaned_queries/{date}\", exist_ok = True)\n",
    "    \n",
    "    # Iterate through missing data\n",
    "    step_size = 50\n",
    "    for i in range(0, missing_scores.shape[0], step_size):\n",
    "        start_idx = i # First start index will be 0, then 50, 100, etc.\n",
    "        end_idx = i + (step_size - 1) # First end index will be 49, then 99, 149, etc. \n",
    "        if (end_idx > missing_scores.shape[0]):\n",
    "            print(\"Reached the end!\")\n",
    "            end_idx = missing_scores.shape[0] # If you've reached the end, only query the remaining IDs available\n",
    "\n",
    "        query_api_batch(start_idx, end_idx, missing_scores, date)\n",
    "        print(f\"Start at idx {start_idx}, end at idx {end_idx}\")\n",
    "else:\n",
    "    print(\"All pages have been scored!\")"
   ]
  },
  {
   "cell_type": "markdown",
   "id": "57a9693a",
   "metadata": {},
   "source": [
    "# 4. Combining the datasets"
   ]
  },
  {
   "cell_type": "markdown",
   "id": "8487da96",
   "metadata": {},
   "source": [
    "Now, I'll merge the scored pages with the population data. "
   ]
  },
  {
   "cell_type": "code",
   "execution_count": 222,
   "id": "2fb52846",
   "metadata": {},
   "outputs": [
    {
     "data": {
      "text/html": [
       "<div>\n",
       "<style scoped>\n",
       "    .dataframe tbody tr th:only-of-type {\n",
       "        vertical-align: middle;\n",
       "    }\n",
       "\n",
       "    .dataframe tbody tr th {\n",
       "        vertical-align: top;\n",
       "    }\n",
       "\n",
       "    .dataframe thead th {\n",
       "        text-align: right;\n",
       "    }\n",
       "</style>\n",
       "<table border=\"1\" class=\"dataframe\">\n",
       "  <thead>\n",
       "    <tr style=\"text-align: right;\">\n",
       "      <th></th>\n",
       "      <th>page</th>\n",
       "      <th>country</th>\n",
       "      <th>rev_id</th>\n",
       "      <th>score</th>\n",
       "      <th>FIPS</th>\n",
       "      <th>Type</th>\n",
       "      <th>TimeFrame</th>\n",
       "      <th>Data (M)</th>\n",
       "      <th>Population</th>\n",
       "    </tr>\n",
       "  </thead>\n",
       "  <tbody>\n",
       "    <tr>\n",
       "      <th>0</th>\n",
       "      <td>Bir I of Kanem</td>\n",
       "      <td>Chad</td>\n",
       "      <td>355319463.0</td>\n",
       "      <td>Stub</td>\n",
       "      <td>TD</td>\n",
       "      <td>Country</td>\n",
       "      <td>2019.0</td>\n",
       "      <td>16.877</td>\n",
       "      <td>16877000.0</td>\n",
       "    </tr>\n",
       "    <tr>\n",
       "      <th>1</th>\n",
       "      <td>Abdullah II of Kanem</td>\n",
       "      <td>Chad</td>\n",
       "      <td>498683267.0</td>\n",
       "      <td>Stub</td>\n",
       "      <td>TD</td>\n",
       "      <td>Country</td>\n",
       "      <td>2019.0</td>\n",
       "      <td>16.877</td>\n",
       "      <td>16877000.0</td>\n",
       "    </tr>\n",
       "    <tr>\n",
       "      <th>2</th>\n",
       "      <td>Salmama II of Kanem</td>\n",
       "      <td>Chad</td>\n",
       "      <td>565745353.0</td>\n",
       "      <td>Stub</td>\n",
       "      <td>TD</td>\n",
       "      <td>Country</td>\n",
       "      <td>2019.0</td>\n",
       "      <td>16.877</td>\n",
       "      <td>16877000.0</td>\n",
       "    </tr>\n",
       "    <tr>\n",
       "      <th>3</th>\n",
       "      <td>Kuri I of Kanem</td>\n",
       "      <td>Chad</td>\n",
       "      <td>565745365.0</td>\n",
       "      <td>Stub</td>\n",
       "      <td>TD</td>\n",
       "      <td>Country</td>\n",
       "      <td>2019.0</td>\n",
       "      <td>16.877</td>\n",
       "      <td>16877000.0</td>\n",
       "    </tr>\n",
       "    <tr>\n",
       "      <th>4</th>\n",
       "      <td>Mohammed I of Kanem</td>\n",
       "      <td>Chad</td>\n",
       "      <td>565745375.0</td>\n",
       "      <td>Stub</td>\n",
       "      <td>TD</td>\n",
       "      <td>Country</td>\n",
       "      <td>2019.0</td>\n",
       "      <td>16.877</td>\n",
       "      <td>16877000.0</td>\n",
       "    </tr>\n",
       "  </tbody>\n",
       "</table>\n",
       "</div>"
      ],
      "text/plain": [
       "                   page country       rev_id score FIPS     Type  TimeFrame  \\\n",
       "0        Bir I of Kanem    Chad  355319463.0  Stub   TD  Country     2019.0   \n",
       "1  Abdullah II of Kanem    Chad  498683267.0  Stub   TD  Country     2019.0   \n",
       "2   Salmama II of Kanem    Chad  565745353.0  Stub   TD  Country     2019.0   \n",
       "3       Kuri I of Kanem    Chad  565745365.0  Stub   TD  Country     2019.0   \n",
       "4   Mohammed I of Kanem    Chad  565745375.0  Stub   TD  Country     2019.0   \n",
       "\n",
       "   Data (M)  Population  \n",
       "0    16.877  16877000.0  \n",
       "1    16.877  16877000.0  \n",
       "2    16.877  16877000.0  \n",
       "3    16.877  16877000.0  \n",
       "4    16.877  16877000.0  "
      ]
     },
     "execution_count": 222,
     "metadata": {},
     "output_type": "execute_result"
    }
   ],
   "source": [
    "scored_politicians = pd.read_csv('clean/pages_with_scores.csv')\n",
    "population = pd.read_csv('clean/population.csv')\n",
    "\n",
    "# Do an outer merge on the 'country' column, so nonmatching observations are kept.\n",
    "results = scored_politicians.merge(population, on='country', how='outer')\n",
    "results = results[['page', 'country', 'rev_id', 'score', 'FIPS', 'Type', 'TimeFrame', 'Data (M)', 'Population']]\n",
    "results.head()"
   ]
  },
  {
   "cell_type": "code",
   "execution_count": 223,
   "id": "57e1c737",
   "metadata": {},
   "outputs": [],
   "source": [
    "# Write to disk any rows that did not exist in both datasets \n",
    "no_match = results.loc[(results.Population.isnull()) | (results.score.isnull())]\n",
    "no_match.to_csv(\"clean/wp_wpds_countries-no_match.csv\")"
   ]
  },
  {
   "cell_type": "code",
   "execution_count": 225,
   "id": "331dd8d5",
   "metadata": {},
   "outputs": [],
   "source": [
    "# Save the results that did match.\n",
    "match = results.loc[~results.rev_id.isin(no_match.rev_id)]\n",
    "match = match[['country', 'page', 'rev_id', 'score', 'Population']]\n",
    "match.columns = ['country', 'article_name', 'revision_id', 'article_quality_est', 'population']\n",
    "match.to_csv(\"clean/wp_wpds_politicians_by_country.csv\")"
   ]
  },
  {
   "cell_type": "markdown",
   "id": "fc184bf7",
   "metadata": {},
   "source": [
    "# 5. Analysis"
   ]
  },
  {
   "cell_type": "markdown",
   "id": "5674cd70",
   "metadata": {},
   "source": [
    "# 6. Results"
   ]
  }
 ],
 "metadata": {
  "kernelspec": {
   "display_name": "Python 3 (ipykernel)",
   "language": "python",
   "name": "python3"
  },
  "language_info": {
   "codemirror_mode": {
    "name": "ipython",
    "version": 3
   },
   "file_extension": ".py",
   "mimetype": "text/x-python",
   "name": "python",
   "nbconvert_exporter": "python",
   "pygments_lexer": "ipython3",
   "version": "3.9.7"
  }
 },
 "nbformat": 4,
 "nbformat_minor": 5
}
